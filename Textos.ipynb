{
 "cells": [
  {
   "cell_type": "markdown",
   "id": "c06a0419",
   "metadata": {},
   "source": [
    "# Textos (Cadenas de carácteres)."
   ]
  },
  {
   "cell_type": "code",
   "execution_count": 1,
   "id": "3501dc08",
   "metadata": {},
   "outputs": [
    {
     "data": {
      "text/plain": [
       "'Hola mundo'"
      ]
     },
     "execution_count": 1,
     "metadata": {},
     "output_type": "execute_result"
    }
   ],
   "source": [
    "'Hola mundo'"
   ]
  },
  {
   "cell_type": "code",
   "execution_count": 2,
   "id": "2abeed00",
   "metadata": {},
   "outputs": [
    {
     "data": {
      "text/plain": [
       "'Hola mundo'"
      ]
     },
     "execution_count": 2,
     "metadata": {},
     "output_type": "execute_result"
    }
   ],
   "source": [
    "\"Hola mundo\""
   ]
  },
  {
   "cell_type": "code",
   "execution_count": 3,
   "id": "4e21f0cf",
   "metadata": {},
   "outputs": [
    {
     "data": {
      "text/plain": [
       "\"Esta 'Palabra' se encuentra entre comillas simples\""
      ]
     },
     "execution_count": 3,
     "metadata": {},
     "output_type": "execute_result"
    }
   ],
   "source": [
    "\"Esta 'Palabra' se encuentra entre comillas simples\""
   ]
  },
  {
   "cell_type": "code",
   "execution_count": 4,
   "id": "76ead2b2",
   "metadata": {},
   "outputs": [
    {
     "data": {
      "text/plain": [
       "'Esta \"Palabra\" se encuentra entre comillas dobles'"
      ]
     },
     "execution_count": 4,
     "metadata": {},
     "output_type": "execute_result"
    }
   ],
   "source": [
    "\"Esta \\\"Palabra\\\" se encuentra entre comillas dobles\""
   ]
  },
  {
   "cell_type": "code",
   "execution_count": 5,
   "id": "c5ae2fd3",
   "metadata": {},
   "outputs": [
    {
     "data": {
      "text/plain": [
       "\"Esta 'Palabra' se encuentra entre comillas simples\""
      ]
     },
     "execution_count": 5,
     "metadata": {},
     "output_type": "execute_result"
    }
   ],
   "source": [
    "'Esta \\'Palabra\\' se encuentra entre comillas simples'"
   ]
  },
  {
   "cell_type": "markdown",
   "id": "49e1e2eb",
   "metadata": {},
   "source": [
    "## La función Print().\n",
    "\n",
    "Es una instrucción que nos permite mostrar correctamente el valor de una cadena ( u otros valores o variables) por pantalla."
   ]
  },
  {
   "cell_type": "code",
   "execution_count": 6,
   "id": "51c7b31e",
   "metadata": {},
   "outputs": [
    {
     "data": {
      "text/plain": [
       "'otra cadena más'"
      ]
     },
     "execution_count": 6,
     "metadata": {},
     "output_type": "execute_result"
    }
   ],
   "source": [
    "\"Una cadena\"\n",
    "'otra cadena'\n",
    "'otra cadena más'"
   ]
  },
  {
   "cell_type": "code",
   "execution_count": 7,
   "id": "c6638120",
   "metadata": {},
   "outputs": [
    {
     "name": "stdout",
     "output_type": "stream",
     "text": [
      "Una cadena\n",
      "Otra cadena\n",
      "Otra cadena más\n"
     ]
    }
   ],
   "source": [
    "print(\"Una cadena\")\n",
    "print('Otra cadena')\n",
    "print('Otra cadena más')"
   ]
  },
  {
   "cell_type": "markdown",
   "id": "a5eb72d7",
   "metadata": {},
   "source": [
    "## Acepta caracteres especiales como las tabulaciones \\t o los saltos de lines \\n."
   ]
  },
  {
   "cell_type": "code",
   "execution_count": 10,
   "id": "3398ffc0",
   "metadata": {},
   "outputs": [
    {
     "name": "stdout",
     "output_type": "stream",
     "text": [
      "Un texto\tuna tabulación\n"
     ]
    }
   ],
   "source": [
    "print(\"Un texto\\tuna tabulación\")"
   ]
  },
  {
   "cell_type": "code",
   "execution_count": 11,
   "id": "dd830eaa",
   "metadata": {},
   "outputs": [
    {
     "name": "stdout",
     "output_type": "stream",
     "text": [
      "Un texto\n",
      "una nueva línea\n"
     ]
    }
   ],
   "source": [
    "print(\"Un texto\\nuna nueva línea\")"
   ]
  },
  {
   "cell_type": "markdown",
   "id": "c42f884f",
   "metadata": {},
   "source": [
    "### Para evitar los carácteres especiales, se debe indicar que una cadena es cruda (raw)."
   ]
  },
  {
   "cell_type": "code",
   "execution_count": 12,
   "id": "9f53eed2",
   "metadata": {},
   "outputs": [
    {
     "name": "stdout",
     "output_type": "stream",
     "text": [
      "C:\n",
      "ombre\\directorio\n"
     ]
    }
   ],
   "source": [
    "print(\"C:\\nombre\\directorio\")"
   ]
  },
  {
   "cell_type": "code",
   "execution_count": 14,
   "id": "fea4968d",
   "metadata": {},
   "outputs": [
    {
     "name": "stdout",
     "output_type": "stream",
     "text": [
      "C:\\nombre\\directorio\n"
     ]
    }
   ],
   "source": [
    "print(r\"C:\\nombre\\directorio\") #Le estamos indicando si r => raw (crudo)"
   ]
  },
  {
   "cell_type": "code",
   "execution_count": null,
   "id": "047311ec",
   "metadata": {},
   "outputs": [],
   "source": []
  },
  {
   "cell_type": "code",
   "execution_count": 15,
   "id": "c3b70685",
   "metadata": {},
   "outputs": [
    {
     "name": "stdout",
     "output_type": "stream",
     "text": [
      "Una línea\n",
      "otra línea\n",
      "otra línea más\tuna tabulación\n"
     ]
    }
   ],
   "source": [
    "# Se puede utilizar \"\"\"(triple comilla) para cadenas multilínea\n",
    "print(\"\"\"Una línea\n",
    "otra línea\n",
    "otra línea más\\tuna tabulación\"\"\")"
   ]
  },
  {
   "cell_type": "code",
   "execution_count": 16,
   "id": "3f2e638f",
   "metadata": {},
   "outputs": [],
   "source": [
    "# También es posible asignar cadenas a variables \n",
    "# La forma correcta de hacerlo es con la instrucción print().\n",
    "\n",
    "c = \"Esto es una cadena\\ncon dos líneas\""
   ]
  },
  {
   "cell_type": "code",
   "execution_count": 17,
   "id": "9dde0896",
   "metadata": {},
   "outputs": [
    {
     "data": {
      "text/plain": [
       "'Esto es una cadena\\ncon dos líneas'"
      ]
     },
     "execution_count": 17,
     "metadata": {},
     "output_type": "execute_result"
    }
   ],
   "source": [
    "c # Esto es para que lo veamos nosotros"
   ]
  },
  {
   "cell_type": "code",
   "execution_count": 18,
   "id": "a051dff0",
   "metadata": {},
   "outputs": [
    {
     "name": "stdout",
     "output_type": "stream",
     "text": [
      "Esto es una cadena\n",
      "con dos líneas\n"
     ]
    }
   ],
   "source": [
    "print(c)"
   ]
  },
  {
   "cell_type": "markdown",
   "id": "a5b22ddf",
   "metadata": {},
   "source": [
    "# Operaciones.\n",
    "\n",
    "Una lista de las operaciones de cadenas es la concatenación (o suma de cadenas)."
   ]
  },
  {
   "cell_type": "code",
   "execution_count": 19,
   "id": "b924aa20",
   "metadata": {},
   "outputs": [
    {
     "data": {
      "text/plain": [
       "'Esto es una cadena\\ncon dos líneasEsto es una cadena\\ncon dos líneas'"
      ]
     },
     "execution_count": 19,
     "metadata": {},
     "output_type": "execute_result"
    }
   ],
   "source": [
    "c + c"
   ]
  },
  {
   "cell_type": "code",
   "execution_count": 20,
   "id": "1c67fc75",
   "metadata": {},
   "outputs": [
    {
     "name": "stdout",
     "output_type": "stream",
     "text": [
      "Esto es una cadena\n",
      "con dos líneasEsto es una cadena\n",
      "con dos líneas\n"
     ]
    }
   ],
   "source": [
    "print(c+c)"
   ]
  },
  {
   "cell_type": "code",
   "execution_count": 22,
   "id": "14c9461b",
   "metadata": {},
   "outputs": [
    {
     "name": "stdout",
     "output_type": "stream",
     "text": [
      "Una cadena compuesta de dos cadenas\n"
     ]
    }
   ],
   "source": [
    "S = \"Una cadena\" \" compuesta de dos cadenas\"\n",
    "print(S)"
   ]
  },
  {
   "cell_type": "code",
   "execution_count": 23,
   "id": "084c91a3",
   "metadata": {},
   "outputs": [
    {
     "name": "stdout",
     "output_type": "stream",
     "text": [
      "Una cadenaOtra cadena\n"
     ]
    }
   ],
   "source": [
    "c1 = \"Una cadena\"\n",
    "c2 = \"Otra cadena\"\n",
    "print(\"Una cadena\" + c2)"
   ]
  },
  {
   "cell_type": "code",
   "execution_count": 24,
   "id": "d166b04b",
   "metadata": {},
   "outputs": [
    {
     "name": "stdout",
     "output_type": "stream",
     "text": [
      "          un texto a 10 espacios\n"
     ]
    }
   ],
   "source": [
    "# También es posible utilizar la multiplicación de una cadena\n",
    "diez_espacios = \" \" * 10\n",
    "print(diez_espacios+\"un texto a 10 espacios\")"
   ]
  },
  {
   "cell_type": "markdown",
   "id": "01e4d619",
   "metadata": {},
   "source": [
    "## Indices en las cadenas\n",
    "\n",
    "Los indices permiten posicionarnos en un carácter específico de una cadena.\n",
    "\n",
    "Representan un número [índice], que empezando por el cero indica el carácter de la primera posición, y así sucesivamente."
   ]
  },
  {
   "cell_type": "code",
   "execution_count": 25,
   "id": "0d355bca",
   "metadata": {},
   "outputs": [],
   "source": [
    "palabra = \"Python\""
   ]
  },
  {
   "cell_type": "code",
   "execution_count": 26,
   "id": "f09cbdb4",
   "metadata": {},
   "outputs": [
    {
     "data": {
      "text/plain": [
       "'P'"
      ]
     },
     "execution_count": 26,
     "metadata": {},
     "output_type": "execute_result"
    }
   ],
   "source": [
    "palabra[0] # Caracter en la posición 0"
   ]
  },
  {
   "cell_type": "code",
   "execution_count": 27,
   "id": "ebc6a3e8",
   "metadata": {},
   "outputs": [
    {
     "data": {
      "text/plain": [
       "'h'"
      ]
     },
     "execution_count": 27,
     "metadata": {},
     "output_type": "execute_result"
    }
   ],
   "source": [
    "palabra[3]"
   ]
  },
  {
   "cell_type": "code",
   "execution_count": 28,
   "id": "4994f40c",
   "metadata": {},
   "outputs": [
    {
     "data": {
      "text/plain": [
       "'n'"
      ]
     },
     "execution_count": 28,
     "metadata": {},
     "output_type": "execute_result"
    }
   ],
   "source": [
    "# El índice negativo -1 hace referencia al caracter de la última posición, el -2 al penúltimo y asi sucesivamente.\n",
    "palabra[-1]"
   ]
  },
  {
   "cell_type": "code",
   "execution_count": 30,
   "id": "bfe66524",
   "metadata": {},
   "outputs": [
    {
     "data": {
      "text/plain": [
       "'P'"
      ]
     },
     "execution_count": 30,
     "metadata": {},
     "output_type": "execute_result"
    }
   ],
   "source": [
    "palabra[-0] # Te da el primer caracter"
   ]
  },
  {
   "cell_type": "code",
   "execution_count": 31,
   "id": "95c2b43a",
   "metadata": {},
   "outputs": [
    {
     "data": {
      "text/plain": [
       "'o'"
      ]
     },
     "execution_count": 31,
     "metadata": {},
     "output_type": "execute_result"
    }
   ],
   "source": [
    "palabra[-2]"
   ]
  },
  {
   "cell_type": "code",
   "execution_count": 32,
   "id": "82bbac67",
   "metadata": {},
   "outputs": [
    {
     "data": {
      "text/plain": [
       "'P'"
      ]
     },
     "execution_count": 32,
     "metadata": {},
     "output_type": "execute_result"
    }
   ],
   "source": [
    "palabra[-6]"
   ]
  },
  {
   "cell_type": "markdown",
   "id": "9356d952",
   "metadata": {},
   "source": [
    "# Slicing en las cadenas.\n",
    "\n",
    "EL slicing es una capacidad de las cadenas que devuelve un subcojunto o subcadena utilizando dos índices [inicio:fin]:\n",
    "* El primer índice indica donde empieza la primer subcadena (se incliye el caracter)\n",
    "* El segundo índice indica donde acada la subcadena (se excluye el caracter)"
   ]
  },
  {
   "cell_type": "code",
   "execution_count": 33,
   "id": "cdefca48",
   "metadata": {},
   "outputs": [],
   "source": [
    "palabra = \"Python\""
   ]
  },
  {
   "cell_type": "code",
   "execution_count": 34,
   "id": "802f9c3c",
   "metadata": {},
   "outputs": [
    {
     "data": {
      "text/plain": [
       "'Py'"
      ]
     },
     "execution_count": 34,
     "metadata": {},
     "output_type": "execute_result"
    }
   ],
   "source": [
    "palabra[0:2]"
   ]
  },
  {
   "cell_type": "code",
   "execution_count": 35,
   "id": "ffc58a40",
   "metadata": {},
   "outputs": [
    {
     "data": {
      "text/plain": [
       "'thon'"
      ]
     },
     "execution_count": 35,
     "metadata": {},
     "output_type": "execute_result"
    }
   ],
   "source": [
    "palabra[2:]"
   ]
  },
  {
   "cell_type": "code",
   "execution_count": 36,
   "id": "31def39e",
   "metadata": {},
   "outputs": [
    {
     "data": {
      "text/plain": [
       "'Py'"
      ]
     },
     "execution_count": 36,
     "metadata": {},
     "output_type": "execute_result"
    }
   ],
   "source": [
    "palabra[:2]"
   ]
  },
  {
   "cell_type": "markdown",
   "id": "c9ed8665",
   "metadata": {},
   "source": [
    "#### SI en el slicing no se indica un indice se toma por defecto el principio y el final (incluídos)."
   ]
  },
  {
   "cell_type": "code",
   "execution_count": 37,
   "id": "cf8c4f8f",
   "metadata": {},
   "outputs": [
    {
     "data": {
      "text/plain": [
       "'Python'"
      ]
     },
     "execution_count": 37,
     "metadata": {},
     "output_type": "execute_result"
    }
   ],
   "source": [
    "palabra[:]"
   ]
  },
  {
   "cell_type": "code",
   "execution_count": 38,
   "id": "2981f081",
   "metadata": {},
   "outputs": [
    {
     "data": {
      "text/plain": [
       "'Python'"
      ]
     },
     "execution_count": 38,
     "metadata": {},
     "output_type": "execute_result"
    }
   ],
   "source": [
    "palabra[:2] + palabra[2:]"
   ]
  },
  {
   "cell_type": "code",
   "execution_count": 39,
   "id": "6881ba36",
   "metadata": {},
   "outputs": [
    {
     "data": {
      "text/plain": [
       "'on'"
      ]
     },
     "execution_count": 39,
     "metadata": {},
     "output_type": "execute_result"
    }
   ],
   "source": [
    "palabra[-2:]"
   ]
  },
  {
   "cell_type": "code",
   "execution_count": 40,
   "id": "14f0f184",
   "metadata": {},
   "outputs": [
    {
     "ename": "IndexError",
     "evalue": "string index out of range",
     "output_type": "error",
     "traceback": [
      "\u001b[0;31m---------------------------------------------------------------------------\u001b[0m",
      "\u001b[0;31mIndexError\u001b[0m                                Traceback (most recent call last)",
      "Cell \u001b[0;32mIn[40], line 2\u001b[0m\n\u001b[1;32m      1\u001b[0m \u001b[38;5;66;03m# Si el índice se encuentra fuera del rango de la cadena, dará error\u001b[39;00m\n\u001b[0;32m----> 2\u001b[0m \u001b[43mpalabra\u001b[49m\u001b[43m[\u001b[49m\u001b[38;5;241;43m99\u001b[39;49m\u001b[43m]\u001b[49m\n",
      "\u001b[0;31mIndexError\u001b[0m: string index out of range"
     ]
    }
   ],
   "source": [
    "# Si el índice se encuentra fuera del rango de la cadena, dará error\n",
    "palabra[99]"
   ]
  },
  {
   "cell_type": "code",
   "execution_count": 41,
   "id": "a540b2a7",
   "metadata": {},
   "outputs": [
    {
     "data": {
      "text/plain": [
       "'Python'"
      ]
     },
     "execution_count": 41,
     "metadata": {},
     "output_type": "execute_result"
    }
   ],
   "source": [
    "# Pero con slicing ésto no pasa y simplemente se ignora el espacio hueco\n",
    "palabra[:99]"
   ]
  },
  {
   "cell_type": "code",
   "execution_count": 42,
   "id": "8ea4235f",
   "metadata": {},
   "outputs": [
    {
     "data": {
      "text/plain": [
       "''"
      ]
     },
     "execution_count": 42,
     "metadata": {},
     "output_type": "execute_result"
    }
   ],
   "source": [
    "palabra[99:]"
   ]
  },
  {
   "cell_type": "markdown",
   "id": "86f6baf1",
   "metadata": {},
   "source": [
    "## Inmutabilidad.\n",
    "\n",
    "Una propiedad de las cadenas es que no se pueden modificar. Si se intenta reasignar un carácter, no lo permitirá."
   ]
  },
  {
   "cell_type": "code",
   "execution_count": 43,
   "id": "c62043ff",
   "metadata": {},
   "outputs": [
    {
     "ename": "TypeError",
     "evalue": "'str' object does not support item assignment",
     "output_type": "error",
     "traceback": [
      "\u001b[0;31m---------------------------------------------------------------------------\u001b[0m",
      "\u001b[0;31mTypeError\u001b[0m                                 Traceback (most recent call last)",
      "Cell \u001b[0;32mIn[43], line 1\u001b[0m\n\u001b[0;32m----> 1\u001b[0m palabra[\u001b[38;5;241m0\u001b[39m] \u001b[38;5;241m=\u001b[39m \u001b[38;5;124m\"\u001b[39m\u001b[38;5;124mN\u001b[39m\u001b[38;5;124m\"\u001b[39m\n",
      "\u001b[0;31mTypeError\u001b[0m: 'str' object does not support item assignment"
     ]
    }
   ],
   "source": [
    "palabra[0] = \"N\""
   ]
  },
  {
   "cell_type": "code",
   "execution_count": 45,
   "id": "f960f50e",
   "metadata": {},
   "outputs": [
    {
     "data": {
      "text/plain": [
       "'Nython'"
      ]
     },
     "execution_count": 45,
     "metadata": {},
     "output_type": "execute_result"
    }
   ],
   "source": [
    "# Sin embargo, utilizando slicing y concatenación se puede generar nuevas cadenas fácilmente:\n",
    "palabra = \"N\" + palabra[1:]\n",
    "palabra"
   ]
  },
  {
   "cell_type": "code",
   "execution_count": 46,
   "id": "9e8dfd7c",
   "metadata": {},
   "outputs": [
    {
     "data": {
      "text/plain": [
       "6"
      ]
     },
     "execution_count": 46,
     "metadata": {},
     "output_type": "execute_result"
    }
   ],
   "source": [
    "# Funciones\n",
    "len(palabra)"
   ]
  },
  {
   "cell_type": "code",
   "execution_count": null,
   "id": "d983b68e",
   "metadata": {},
   "outputs": [],
   "source": [
    ".00"
   ]
  }
 ],
 "metadata": {
  "kernelspec": {
   "display_name": "Python 3 (ipykernel)",
   "language": "python",
   "name": "python3"
  },
  "language_info": {
   "codemirror_mode": {
    "name": "ipython",
    "version": 3
   },
   "file_extension": ".py",
   "mimetype": "text/x-python",
   "name": "python",
   "nbconvert_exporter": "python",
   "pygments_lexer": "ipython3",
   "version": "3.10.9"
  }
 },
 "nbformat": 4,
 "nbformat_minor": 5
}
