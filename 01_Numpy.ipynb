{
 "cells": [
  {
   "cell_type": "markdown",
   "id": "37edddfb",
   "metadata": {},
   "source": [
    "# Introducción a NUmPy"
   ]
  },
  {
   "cell_type": "markdown",
   "id": "a8440ba5",
   "metadata": {},
   "source": [
    "[Numpy] (https://numpy.org/) es una librería fundamental para la computación científica con Python.\n",
    "* Proporciona arrays N-dimensionales.\n",
    "* Implementa funciones matemáticas sofisticadas.\n",
    "* Proporciona herramientas para integrar C/C++ y fortran.\n"
   ]
  },
  {
   "cell_type": "markdown",
   "id": "aed87772",
   "metadata": {},
   "source": [
    "## Imports"
   ]
  },
  {
   "cell_type": "code",
   "execution_count": 1,
   "id": "71ffddf9",
   "metadata": {},
   "outputs": [],
   "source": [
    "import numpy as np"
   ]
  },
  {
   "cell_type": "markdown",
   "id": "3546d176",
   "metadata": {},
   "source": [
    "## Arrays"
   ]
  },
  {
   "cell_type": "markdown",
   "id": "8dab92d5",
   "metadata": {},
   "source": [
    "Un array es una estructura de datos que consiste en una colecicón de elementos (valores o variables), cada uno identificado por al menos un índice o clave. Un array se almacena de modo que la posición de cada elemento se puede calcular a partir de su tupla de índice mediante una fórmula matemática. EL tipo más simple del array es un array lineal, también llamado array unidimencional."
   ]
  },
  {
   "cell_type": "markdown",
   "id": "d5fe699f",
   "metadata": {},
   "source": [
    "En NumPy:\n",
    "* Cada dimensión se denomida **axis**.\n",
    "* El número de dimensiones se denomina **rank**.\n",
    "* La lista de dimensiones con su correspondiente longitud se denomina **shape**.\n",
    "* EL numero total de elementos (multiplicación de las dimensiones) se denomina **size**."
   ]
  },
  {
   "cell_type": "code",
   "execution_count": 2,
   "id": "ca455c6d",
   "metadata": {},
   "outputs": [],
   "source": [
    "# array cuyos valores son todos 0\n",
    "a = np.zeros((2,4))"
   ]
  },
  {
   "cell_type": "code",
   "execution_count": 3,
   "id": "a8c36aca",
   "metadata": {},
   "outputs": [
    {
     "data": {
      "text/plain": [
       "array([[0., 0., 0., 0.],\n",
       "       [0., 0., 0., 0.]])"
      ]
     },
     "execution_count": 3,
     "metadata": {},
     "output_type": "execute_result"
    }
   ],
   "source": [
    "a"
   ]
  },
  {
   "cell_type": "markdown",
   "id": "ef1d4dff",
   "metadata": {},
   "source": [
    "_**a**_ es un array:\n",
    "* Con dos **axis**, el primero de longitud 2 y el segundo de longitud 4.\n",
    "* Con un **rank** igual a 2.\n",
    "* Con un **shape** igual (2,4).\n",
    "* COn un **size** igual a 8."
   ]
  },
  {
   "cell_type": "code",
   "execution_count": 4,
   "id": "9e84774f",
   "metadata": {},
   "outputs": [
    {
     "data": {
      "text/plain": [
       "(2, 4)"
      ]
     },
     "execution_count": 4,
     "metadata": {},
     "output_type": "execute_result"
    }
   ],
   "source": [
    "a.shape"
   ]
  },
  {
   "cell_type": "code",
   "execution_count": 5,
   "id": "4691decf",
   "metadata": {},
   "outputs": [
    {
     "data": {
      "text/plain": [
       "2"
      ]
     },
     "execution_count": 5,
     "metadata": {},
     "output_type": "execute_result"
    }
   ],
   "source": [
    "a.ndim"
   ]
  },
  {
   "cell_type": "code",
   "execution_count": 6,
   "id": "79f655b2",
   "metadata": {},
   "outputs": [
    {
     "data": {
      "text/plain": [
       "8"
      ]
     },
     "execution_count": 6,
     "metadata": {},
     "output_type": "execute_result"
    }
   ],
   "source": [
    "a.size"
   ]
  },
  {
   "cell_type": "markdown",
   "id": "1a0b9a46",
   "metadata": {},
   "source": [
    "## Creación de Arrays"
   ]
  },
  {
   "cell_type": "code",
   "execution_count": 7,
   "id": "5fd5ee46",
   "metadata": {},
   "outputs": [
    {
     "data": {
      "text/plain": [
       "array([[[0., 0., 0., 0.],\n",
       "        [0., 0., 0., 0.],\n",
       "        [0., 0., 0., 0.]],\n",
       "\n",
       "       [[0., 0., 0., 0.],\n",
       "        [0., 0., 0., 0.],\n",
       "        [0., 0., 0., 0.]]])"
      ]
     },
     "execution_count": 7,
     "metadata": {},
     "output_type": "execute_result"
    }
   ],
   "source": [
    "# Array cuyos valores son todos 0\n",
    "np.zeros((2,3,4))"
   ]
  },
  {
   "cell_type": "code",
   "execution_count": 8,
   "id": "3af98717",
   "metadata": {},
   "outputs": [
    {
     "data": {
      "text/plain": [
       "array([[[1., 1., 1., 1.],\n",
       "        [1., 1., 1., 1.],\n",
       "        [1., 1., 1., 1.]],\n",
       "\n",
       "       [[1., 1., 1., 1.],\n",
       "        [1., 1., 1., 1.],\n",
       "        [1., 1., 1., 1.]]])"
      ]
     },
     "execution_count": 8,
     "metadata": {},
     "output_type": "execute_result"
    }
   ],
   "source": [
    "#Array cuyos valores son todos 1\n",
    "np.ones((2,3,4))"
   ]
  },
  {
   "cell_type": "code",
   "execution_count": 9,
   "id": "dbd03579",
   "metadata": {},
   "outputs": [
    {
     "data": {
      "text/plain": [
       "array([[[8, 8, 8, 8],\n",
       "        [8, 8, 8, 8],\n",
       "        [8, 8, 8, 8]],\n",
       "\n",
       "       [[8, 8, 8, 8],\n",
       "        [8, 8, 8, 8],\n",
       "        [8, 8, 8, 8]]])"
      ]
     },
     "execution_count": 9,
     "metadata": {},
     "output_type": "execute_result"
    }
   ],
   "source": [
    "# Array cuyos valores son todos el valor indicado como segundo parámetro de la función\n",
    "np.full((2, 3, 4), 8)"
   ]
  },
  {
   "cell_type": "code",
   "execution_count": 10,
   "id": "c3902608",
   "metadata": {
    "scrolled": true
   },
   "outputs": [
    {
     "data": {
      "text/plain": [
       "array([[[ 2.40332270e-316,  0.00000000e+000,  5.37654439e+173,\n",
       "          3.71026720e-309,  7.29112202e-304,  8.84445548e+245,\n",
       "          1.64726359e+265,  7.29290450e-304,  3.36265014e-309],\n",
       "        [ 1.95003019e+289, -3.52285531e-135,  2.14902222e-308,\n",
       "          0.00000000e+000, -1.42873649e-101,  4.94065646e-324,\n",
       "          6.48571348e-256,  6.01347002e-154,  1.02189774e-152],\n",
       "        [ 2.43300218e-152,  3.57885813e+246,  1.15823371e-152,\n",
       "          2.38086648e+228,  5.63096753e+175,  6.98860380e+228,\n",
       "          3.17095857e+180,  5.98183403e-154,  7.62821964e+228]],\n",
       "\n",
       "       [[ 4.87882646e+199,  4.44387703e+252,  6.13362716e-095,\n",
       "          3.99703049e+252,  1.27734658e-152,  1.87673449e-152,\n",
       "          4.92976954e+204,  5.62630206e+175,  6.01334434e-154],\n",
       "        [ 2.28137848e+161,  1.48776569e+195,  2.26724832e+161,\n",
       "          1.46921998e+195,  4.44390491e+252,  2.55796528e-152,\n",
       "          1.87673453e-152,  7.22756686e+159,  4.44387703e+252],\n",
       "        [ 6.01347002e-154,  4.33873967e-313,  8.46972774e+179,\n",
       "          9.30350598e+199,  1.46921998e+195,  3.42793296e+180,\n",
       "          1.02767516e+248,  2.35510032e+251,  3.98838383e+252]]])"
      ]
     },
     "execution_count": 10,
     "metadata": {},
     "output_type": "execute_result"
    }
   ],
   "source": [
    "# El resultado de np.empty no es predecible\n",
    "# Inicializa los valores del array con lo que haya en memoria en ese momento.\n",
    "np.empty((2, 3, 9))"
   ]
  },
  {
   "cell_type": "code",
   "execution_count": 11,
   "id": "057ad5dc",
   "metadata": {},
   "outputs": [
    {
     "data": {
      "text/plain": [
       "array([[1, 2, 3],\n",
       "       [4, 5, 6]])"
      ]
     },
     "execution_count": 11,
     "metadata": {},
     "output_type": "execute_result"
    }
   ],
   "source": [
    "# Inicializacion del array utilizando un array de python\n",
    "b = np.array([[1,2,3], [4,5,6]])\n",
    "b"
   ]
  },
  {
   "cell_type": "code",
   "execution_count": 12,
   "id": "04791af6",
   "metadata": {},
   "outputs": [
    {
     "data": {
      "text/plain": [
       "(2, 3)"
      ]
     },
     "execution_count": 12,
     "metadata": {},
     "output_type": "execute_result"
    }
   ],
   "source": [
    "b.shape"
   ]
  },
  {
   "cell_type": "code",
   "execution_count": 13,
   "id": "4a53d836",
   "metadata": {},
   "outputs": [
    {
     "name": "stdout",
     "output_type": "stream",
     "text": [
      "[0.         0.66666667 1.33333333 2.         2.66666667 3.33333333\n",
      " 4.         4.66666667 5.33333333 6.        ]\n"
     ]
    }
   ],
   "source": [
    "# Creación del array utilizando una función basada en rangos\n",
    "# (minimo, máximo, Número de elemetos del array)\n",
    "print(np.linspace(0, 6, 10))"
   ]
  },
  {
   "cell_type": "code",
   "execution_count": 14,
   "id": "5283e73e",
   "metadata": {},
   "outputs": [
    {
     "data": {
      "text/plain": [
       "array([[[2.64859269e-01, 8.68648357e-01, 9.44635525e-01, 4.00615995e-01],\n",
       "        [7.41031478e-01, 8.90479925e-01, 2.62900080e-01, 8.89882341e-01],\n",
       "        [1.12569843e-01, 2.66097318e-01, 4.15460307e-01, 4.47836798e-04]],\n",
       "\n",
       "       [[8.11173030e-01, 7.57181517e-01, 4.84759472e-01, 7.42688689e-01],\n",
       "        [6.98356216e-01, 7.16832860e-01, 6.70056603e-01, 7.98336206e-01],\n",
       "        [5.15881290e-01, 3.83222464e-01, 1.02340474e-01, 1.58083631e-01]]])"
      ]
     },
     "execution_count": 14,
     "metadata": {},
     "output_type": "execute_result"
    }
   ],
   "source": [
    "# Inicialización del array con valores aleatorios\n",
    "np.random.rand(2, 3, 4)"
   ]
  },
  {
   "cell_type": "code",
   "execution_count": 15,
   "id": "370fa250",
   "metadata": {},
   "outputs": [
    {
     "data": {
      "text/plain": [
       "array([[ 1.46253717, -0.34709331, -1.04560791, -1.26960027],\n",
       "       [-0.0569957 , -0.52560282, -0.5526972 , -0.07355881]])"
      ]
     },
     "execution_count": 15,
     "metadata": {},
     "output_type": "execute_result"
    }
   ],
   "source": [
    "# Inicialización del array con valores aleatorios con forme a una distribución normal\n",
    "np.random.randn(2,4)"
   ]
  },
  {
   "cell_type": "code",
   "execution_count": 16,
   "id": "e5439b98",
   "metadata": {},
   "outputs": [
    {
     "data": {
      "image/png": "[encoded data removed]",
      "text/plain": [
       "<Figure size 640x480 with 1 Axes>"
      ]
     },
     "metadata": {},
     "output_type": "display_data"
    },
    {
     "data": {
      "text/plain": [
       "array([ 0.04914589, -0.72453598,  0.32600891, ..., -0.29206296,\n",
       "       -0.29048157,  1.8443462 ])"
      ]
     },
     "execution_count": 16,
     "metadata": {},
     "output_type": "execute_result"
    }
   ],
   "source": [
    "%matplotlib inline\n",
    "import matplotlib.pyplot as plt\n",
    "c = np.random.randn(1000000)\n",
    "plt.hist(c, bins=500)\n",
    "plt.show()\n",
    "c"
   ]
  },
  {
   "cell_type": "code",
   "execution_count": 17,
   "id": "2c457b0a",
   "metadata": {},
   "outputs": [
    {
     "data": {
      "text/plain": [
       "array([[[0.54006183, 0.67426561, 0.88906853, 0.90022526, 0.09537952],\n",
       "        [0.96932874, 0.06662784, 0.91621106, 0.23721911, 0.86948956],\n",
       "        [0.37741106, 0.46201534, 0.9981862 , 0.77651719, 0.27067366],\n",
       "        [0.12977878, 0.08769572, 0.60266867, 0.36777035, 0.11109012],\n",
       "        [0.8235279 , 0.13762162, 0.51412188, 0.27562116, 0.85312924],\n",
       "        [0.85468245, 0.14973571, 0.26070821, 0.9664557 , 0.55288786]],\n",
       "\n",
       "       [[0.23289151, 0.88417009, 0.9333697 , 0.44011944, 0.12480135],\n",
       "        [0.81815488, 0.79272882, 0.82486717, 0.66572384, 0.15881184],\n",
       "        [0.26593627, 0.36078443, 0.06483255, 0.56118519, 0.04987049],\n",
       "        [0.94146388, 0.12752028, 0.51635672, 0.68583754, 0.95254952],\n",
       "        [0.63165432, 0.64888743, 0.99738183, 0.29466944, 0.54789419],\n",
       "        [0.9640963 , 0.76997622, 0.83121459, 0.60480425, 0.5386084 ]],\n",
       "\n",
       "       [[0.81565919, 0.21213452, 0.49237099, 0.73916474, 0.14631404],\n",
       "        [0.07206994, 0.8485412 , 0.79471716, 0.63436113, 0.22209896],\n",
       "        [0.96279732, 0.39485772, 0.46095066, 0.88375794, 0.26406435],\n",
       "        [0.64623682, 0.70534877, 0.22353903, 0.09021907, 0.91816334],\n",
       "        [0.4257127 , 0.1429241 , 0.77522287, 0.5586636 , 0.86724055],\n",
       "        [0.67847284, 0.77942359, 0.9578958 , 0.62724092, 0.1521468 ]],\n",
       "\n",
       "       [[0.55026256, 0.77718155, 0.44556214, 0.26419861, 0.9275495 ],\n",
       "        [0.39890786, 0.98381364, 0.56853557, 0.58177863, 0.7994847 ],\n",
       "        [0.55870868, 0.42219389, 0.68819398, 0.80156239, 0.88286429],\n",
       "        [0.70262581, 0.90175956, 0.0147657 , 0.57371344, 0.00688553],\n",
       "        [0.28416455, 0.4810467 , 0.53757094, 0.43389936, 0.99065914],\n",
       "        [0.36423656, 0.33508071, 0.03777909, 0.52204435, 0.58616844]],\n",
       "\n",
       "       [[0.83306376, 0.88081903, 0.90878449, 0.25610969, 0.35909243],\n",
       "        [0.36270502, 0.31758748, 0.10407045, 0.06545378, 0.100902  ],\n",
       "        [0.50518246, 0.94102774, 0.10345557, 0.3973872 , 0.35867887],\n",
       "        [0.60557282, 0.51037112, 0.63768404, 0.53836364, 0.99076652],\n",
       "        [0.83759717, 0.24973244, 0.29443906, 0.26416097, 0.27933353],\n",
       "        [0.00944532, 0.66397364, 0.73281109, 0.34811949, 0.74747082]]])"
      ]
     },
     "execution_count": 17,
     "metadata": {},
     "output_type": "execute_result"
    }
   ],
   "source": [
    "#Array de 5 dimensiones\n",
    "np.random.rand(5,6,5)"
   ]
  },
  {
   "cell_type": "code",
   "execution_count": 18,
   "id": "d0bd668d",
   "metadata": {},
   "outputs": [
    {
     "data": {
      "text/plain": [
       "array([[ 0.,  2.,  4.,  6.,  8.],\n",
       "       [ 1.,  3.,  5.,  7.,  9.],\n",
       "       [ 2.,  4.,  6.,  8., 10.]])"
      ]
     },
     "execution_count": 18,
     "metadata": {},
     "output_type": "execute_result"
    }
   ],
   "source": [
    "#Inicialización del Array utilizando una función personalizada.\n",
    "def func(x,y):\n",
    "    return x + 2 * y\n",
    "\n",
    "np.fromfunction(func, (3,5))"
   ]
  },
  {
   "cell_type": "markdown",
   "id": "5bbc98a3",
   "metadata": {},
   "source": [
    "## Acceso a los elementos de un Array"
   ]
  },
  {
   "cell_type": "markdown",
   "id": "88ccd336",
   "metadata": {},
   "source": [
    "### Array unidimencional."
   ]
  },
  {
   "cell_type": "code",
   "execution_count": 19,
   "id": "7cc72c58",
   "metadata": {},
   "outputs": [
    {
     "name": "stdout",
     "output_type": "stream",
     "text": [
      "Shape:  (6,)\n",
      "Array_uni  [ 1  3  5  7  9 11]\n"
     ]
    }
   ],
   "source": [
    "#Creacion de un Arrreglo unidimencional\n",
    "# En shape imprime (6,). El espacio en blanco quiere decir 1\n",
    "array_uni = np.array([1,3,5,7,9,11])\n",
    "print(\"Shape: \", array_uni.shape)\n",
    "print(\"Array_uni \", array_uni)"
   ]
  },
  {
   "cell_type": "code",
   "execution_count": 20,
   "id": "b9397658",
   "metadata": {},
   "outputs": [
    {
     "data": {
      "text/plain": [
       "9"
      ]
     },
     "execution_count": 20,
     "metadata": {},
     "output_type": "execute_result"
    }
   ],
   "source": [
    "# Accediendo al quinto elemento del Array.\n",
    "array_uni[4]"
   ]
  },
  {
   "cell_type": "code",
   "execution_count": 21,
   "id": "e4518338",
   "metadata": {},
   "outputs": [
    {
     "data": {
      "text/plain": [
       "array([5, 7])"
      ]
     },
     "execution_count": 21,
     "metadata": {},
     "output_type": "execute_result"
    }
   ],
   "source": [
    "# Accediendo al tercer y cuarto elemento del Array\n",
    "array_uni[2:4]"
   ]
  },
  {
   "cell_type": "code",
   "execution_count": 22,
   "id": "47497d77",
   "metadata": {},
   "outputs": [
    {
     "data": {
      "text/plain": [
       "array([1, 7])"
      ]
     },
     "execution_count": 22,
     "metadata": {},
     "output_type": "execute_result"
    }
   ],
   "source": [
    "# Accediendo a los elementos 0, 3 y 5 del Array\n",
    "array_uni[0::3]"
   ]
  },
  {
   "cell_type": "markdown",
   "id": "557812ad",
   "metadata": {},
   "source": [
    "## Array mutidimencional."
   ]
  },
  {
   "cell_type": "code",
   "execution_count": 23,
   "id": "264b41ab",
   "metadata": {},
   "outputs": [
    {
     "name": "stdout",
     "output_type": "stream",
     "text": [
      "Shape:  (2, 4)\n",
      "Array_multi:\n",
      " [[1 2 3 4]\n",
      " [5 6 7 8]]\n"
     ]
    }
   ],
   "source": [
    "# Creación de un Array Multidimensional\n",
    "array_multi = np.array([[1,2,3,4],[5, 6, 7, 8]])\n",
    "print(\"Shape: \", array_multi.shape)\n",
    "print(\"Array_multi:\\n\", array_multi)"
   ]
  },
  {
   "cell_type": "code",
   "execution_count": 24,
   "id": "1d989ec5",
   "metadata": {},
   "outputs": [
    {
     "data": {
      "text/plain": [
       "4"
      ]
     },
     "execution_count": 24,
     "metadata": {},
     "output_type": "execute_result"
    }
   ],
   "source": [
    "# Accediendo al cuarto elemento del Array\n",
    "# Se indica de que dimensión se quiere el elemento\n",
    "array_multi[0,3]"
   ]
  },
  {
   "cell_type": "code",
   "execution_count": 25,
   "id": "fcc68b3b",
   "metadata": {},
   "outputs": [
    {
     "data": {
      "text/plain": [
       "array([5, 6, 7, 8])"
      ]
     },
     "execution_count": 25,
     "metadata": {},
     "output_type": "execute_result"
    }
   ],
   "source": [
    "# Accediendo a la segunda fila del Array\n",
    "array_multi[1, :]"
   ]
  },
  {
   "cell_type": "code",
   "execution_count": 26,
   "id": "441d0ced",
   "metadata": {},
   "outputs": [
    {
     "data": {
      "text/plain": [
       "array([3, 7])"
      ]
     },
     "execution_count": 26,
     "metadata": {},
     "output_type": "execute_result"
    }
   ],
   "source": [
    "# Accediedo al tercer elemento de las dos primeras filas del Array\n",
    "array_multi[0:2,2]"
   ]
  },
  {
   "cell_type": "markdown",
   "id": "a1df8fe4",
   "metadata": {},
   "source": [
    "## Modificar un Array"
   ]
  },
  {
   "cell_type": "code",
   "execution_count": 27,
   "id": "6e14e760",
   "metadata": {},
   "outputs": [
    {
     "name": "stdout",
     "output_type": "stream",
     "text": [
      "Shape:  (28,)\n",
      "Array 1 \n",
      " [ 0  1  2  3  4  5  6  7  8  9 10 11 12 13 14 15 16 17 18 19 20 21 22 23\n",
      " 24 25 26 27]\n"
     ]
    }
   ],
   "source": [
    "#CReación de un Array unidimencional inicializando con el rango de elementos\n",
    "array1 = np.arange(28)\n",
    "print(\"Shape: \", array1.shape)\n",
    "print(\"Array 1 \\n\", array1)"
   ]
  },
  {
   "cell_type": "code",
   "execution_count": 28,
   "id": "434b1226",
   "metadata": {},
   "outputs": [
    {
     "name": "stdout",
     "output_type": "stream",
     "text": [
      "Shape:  (7, 4)\n",
      "Array 1:\n",
      " [[ 0  1  2  3]\n",
      " [ 4  5  6  7]\n",
      " [ 8  9 10 11]\n",
      " [12 13 14 15]\n",
      " [16 17 18 19]\n",
      " [20 21 22 23]\n",
      " [24 25 26 27]]\n"
     ]
    }
   ],
   "source": [
    "# Cambiar las dimenciones del array y sus longitudes\n",
    "array1.shape = (7, 4)\n",
    "print(\"Shape: \", array1.shape)\n",
    "print(\"Array 1:\\n\", array1)"
   ]
  },
  {
   "cell_type": "code",
   "execution_count": 29,
   "id": "693042c6",
   "metadata": {},
   "outputs": [
    {
     "name": "stdout",
     "output_type": "stream",
     "text": [
      "Shape:  (4, 7)\n",
      "Array 2: \n",
      " [[ 0  1  2  3  4  5  6]\n",
      " [ 7  8  9 10 11 12 13]\n",
      " [14 15 16 17 18 19 20]\n",
      " [21 22 23 24 25 26 27]]\n"
     ]
    }
   ],
   "source": [
    "# El ejemplo anterior devuelve un nuevo array que apunta a los mismos datos.\n",
    "# Importante: Modificaciones en un Array, modifican el otro Array.\n",
    "array2 = array1.reshape(4, 7)\n",
    "print(\"Shape: \", array2.shape)\n",
    "print(\"Array 2: \\n\", array2)"
   ]
  },
  {
   "cell_type": "code",
   "execution_count": 30,
   "id": "a9f14812",
   "metadata": {},
   "outputs": [
    {
     "data": {
      "text/plain": [
       "array([[ 0,  1,  2,  3],\n",
       "       [ 4,  5,  6,  7],\n",
       "       [ 8,  9, 10, 11],\n",
       "       [12, 13, 14, 15],\n",
       "       [16, 17, 18, 19],\n",
       "       [20, 21, 22, 23],\n",
       "       [24, 25, 26, 27]])"
      ]
     },
     "execution_count": 30,
     "metadata": {},
     "output_type": "execute_result"
    }
   ],
   "source": [
    "array1"
   ]
  },
  {
   "cell_type": "code",
   "execution_count": 31,
   "id": "b44df629",
   "metadata": {},
   "outputs": [
    {
     "name": "stdout",
     "output_type": "stream",
     "text": [
      "Array2: \n",
      " [[ 0  1  2 20  4  5  6]\n",
      " [ 7  8  9 10 11 12 13]\n",
      " [14 15 16 17 18 19 20]\n",
      " [21 22 23 24 25 26 27]]\n"
     ]
    }
   ],
   "source": [
    "# Modificación del nuevo array devuelto.\n",
    "array2[0, 3] = 20\n",
    "print(\"Array2: \\n\", array2)"
   ]
  },
  {
   "cell_type": "code",
   "execution_count": 54,
   "id": "e387a18d",
   "metadata": {},
   "outputs": [
    {
     "name": "stdout",
     "output_type": "stream",
     "text": [
      "100\n"
     ]
    }
   ],
   "source": [
    "array1\n",
    "print(array1.sum())"
   ]
  },
  {
   "cell_type": "code",
   "execution_count": 33,
   "id": "32a20716",
   "metadata": {},
   "outputs": [
    {
     "name": "stdout",
     "output_type": "stream",
     "text": [
      "Array 1:  [ 0  1  2 20  4  5  6  7  8  9 10 11 12 13 14 15 16 17 18 19 20 21 22 23\n",
      " 24 25 26 27]\n"
     ]
    }
   ],
   "source": [
    "# Devuelve el Array, devolveindo un nuevo Array de una sola dimensión.\n",
    "# Importatnte: El nuevo Array apunta a los mismos datos.\n",
    "print(\"Array 1: \", array1.ravel())"
   ]
  },
  {
   "cell_type": "markdown",
   "id": "d7bec516",
   "metadata": {},
   "source": [
    "## Operaciones aritméticas del Array."
   ]
  },
  {
   "cell_type": "code",
   "execution_count": 34,
   "id": "c13e1a2e",
   "metadata": {},
   "outputs": [
    {
     "name": "stdout",
     "output_type": "stream",
     "text": [
      "Array 1: \n",
      " [ 2  4  6  8 10 12 14 16]\n",
      "Array2: \n",
      " [0 1 2 3 4 5 6 7]\n"
     ]
    }
   ],
   "source": [
    "# Creación de dos Arra, ys unidimencionales\n",
    "array1 = np.arange(2, 18, 2)\n",
    "array2 = np.arange(8)\n",
    "print(\"Array 1: \\n\", array1)\n",
    "print(\"Array2: \\n\", array2)"
   ]
  },
  {
   "cell_type": "code",
   "execution_count": 35,
   "id": "fa1ebfcc",
   "metadata": {},
   "outputs": [
    {
     "name": "stdout",
     "output_type": "stream",
     "text": [
      "[ 2  5  8 11 14 17 20 23]\n"
     ]
    }
   ],
   "source": [
    "# Suma\n",
    "print(array1 + array2)"
   ]
  },
  {
   "cell_type": "code",
   "execution_count": 36,
   "id": "6013e0fe",
   "metadata": {},
   "outputs": [
    {
     "name": "stdout",
     "output_type": "stream",
     "text": [
      "[2 3 4 5 6 7 8 9]\n"
     ]
    }
   ],
   "source": [
    "# Resta\n",
    "print(array1 - array2)"
   ]
  },
  {
   "cell_type": "code",
   "execution_count": 37,
   "id": "bcbdb176",
   "metadata": {},
   "outputs": [
    {
     "name": "stdout",
     "output_type": "stream",
     "text": [
      "[  0   4  12  24  40  60  84 112]\n"
     ]
    }
   ],
   "source": [
    "# Multiplicación.\n",
    "# Importante: NO es una multiplicación de matrices, es una multiplicación de elementos.\n",
    "print(array1 * array2)"
   ]
  },
  {
   "cell_type": "markdown",
   "id": "2fa95d8c",
   "metadata": {},
   "source": [
    "## Broadcasting\n",
    "Si se aplican operaciones aritméticas sobre Arrrays que no tienen la misma forma (shape) NumPy aplica una propiedad que sse denomina BroasCasting"
   ]
  },
  {
   "cell_type": "code",
   "execution_count": 41,
   "id": "1a0753bc",
   "metadata": {},
   "outputs": [
    {
     "name": "stdout",
     "output_type": "stream",
     "text": [
      "Shape Array 1:  (5,)\n",
      "Array 1: [0 1 2 3 4]\n",
      "\n",
      "Shape Array 2:  (1,)\n",
      "Array 2: [3]\n"
     ]
    }
   ],
   "source": [
    "# Creación de dos Arrays unidimencionales\n",
    "array1= np.arange(5)\n",
    "array2 = np.array([3])\n",
    "print(\"Shape Array 1: \",array1.shape)\n",
    "print(\"Array 1:\",array1)\n",
    "print()\n",
    "print(\"Shape Array 2: \",array2.shape)\n",
    "print(\"Array 2:\",array2)"
   ]
  },
  {
   "cell_type": "code",
   "execution_count": 42,
   "id": "c41b7f0c",
   "metadata": {},
   "outputs": [
    {
     "data": {
      "text/plain": [
       "array([3, 4, 5, 6, 7])"
      ]
     },
     "execution_count": 42,
     "metadata": {},
     "output_type": "execute_result"
    }
   ],
   "source": [
    "#Suma anbos Arrays\n",
    "array1 + array2"
   ]
  },
  {
   "cell_type": "code",
   "execution_count": 45,
   "id": "3f0d118d",
   "metadata": {},
   "outputs": [
    {
     "name": "stdout",
     "output_type": "stream",
     "text": [
      "Shape Array 1:  (2, 3)\n",
      "Array 1: [[0 1 2]\n",
      " [3 4 5]]\n",
      "\n",
      "Shape Array 2:  (3,)\n",
      "Array 2: [ 6 10 14]\n"
     ]
    }
   ],
   "source": [
    "# CReación de dos Arrays multidimensionales y unidimencional\n",
    "array1 = np.arange(6)\n",
    "array1.shape= (2,3)\n",
    "array2= np.arange(6,18,4)\n",
    "print(\"Shape Array 1: \",array1.shape)\n",
    "print(\"Array 1:\",array1)\n",
    "print()\n",
    "print(\"Shape Array 2: \",array2.shape)\n",
    "print(\"Array 2:\",array2)"
   ]
  },
  {
   "cell_type": "code",
   "execution_count": 46,
   "id": "762c995d",
   "metadata": {},
   "outputs": [
    {
     "data": {
      "text/plain": [
       "array([[ 6, 11, 16],\n",
       "       [ 9, 14, 19]])"
      ]
     },
     "execution_count": 46,
     "metadata": {},
     "output_type": "execute_result"
    }
   ],
   "source": [
    "#Sumar ambos Arrays.\n",
    "array1 + array2"
   ]
  },
  {
   "cell_type": "markdown",
   "id": "731aad0c",
   "metadata": {},
   "source": [
    "## Funciones estadísticas sobre Arrays."
   ]
  },
  {
   "cell_type": "code",
   "execution_count": 47,
   "id": "7a167bb3",
   "metadata": {},
   "outputs": [
    {
     "name": "stdout",
     "output_type": "stream",
     "text": [
      "Aray 1:  [ 1  3  5  7  9 11 13 15 17 19]\n"
     ]
    }
   ],
   "source": [
    "#Creación de un Array unidimencional.\n",
    "array1 = np.arange(1,20,2)\n",
    "print(\"Aray 1: \",array1)"
   ]
  },
  {
   "cell_type": "code",
   "execution_count": 48,
   "id": "7f1c834a",
   "metadata": {},
   "outputs": [
    {
     "data": {
      "text/plain": [
       "10.0"
      ]
     },
     "execution_count": 48,
     "metadata": {},
     "output_type": "execute_result"
    }
   ],
   "source": [
    "# Media de los elementos del Array.\n",
    "array1.mean()"
   ]
  },
  {
   "cell_type": "code",
   "execution_count": 49,
   "id": "0ecf1d17",
   "metadata": {},
   "outputs": [
    {
     "data": {
      "text/plain": [
       "100"
      ]
     },
     "execution_count": 49,
     "metadata": {},
     "output_type": "execute_result"
    }
   ],
   "source": [
    "# Suma del Array.\n",
    "array1.sum()"
   ]
  },
  {
   "cell_type": "code",
   "execution_count": 51,
   "id": "4a9fb50d",
   "metadata": {},
   "outputs": [
    {
     "data": {
      "text/plain": [
       "array([  1,   2,   3,   4,   5,   6,   7,   8,   9,  10,  11,  12,  13,\n",
       "        14,  15,  16,  17,  18,  19,  20,  21,  22,  23,  24,  25,  26,\n",
       "        27,  28,  29,  30,  31,  32,  33,  34,  35,  36,  37,  38,  39,\n",
       "        40,  41,  42,  43,  44,  45,  46,  47,  48,  49,  50,  51,  52,\n",
       "        53,  54,  55,  56,  57,  58,  59,  60,  61,  62,  63,  64,  65,\n",
       "        66,  67,  68,  69,  70,  71,  72,  73,  74,  75,  76,  77,  78,\n",
       "        79,  80,  81,  82,  83,  84,  85,  86,  87,  88,  89,  90,  91,\n",
       "        92,  93,  94,  95,  96,  97,  98,  99, 100, 101, 102, 103, 104,\n",
       "       105, 106, 107, 108, 109, 110, 111, 112, 113, 114, 115, 116, 117,\n",
       "       118, 119, 120, 121, 122, 123, 124, 125, 126, 127, 128, 129, 130,\n",
       "       131, 132, 133, 134, 135, 136, 137, 138, 139, 140, 141, 142, 143,\n",
       "       144, 145, 146, 147, 148, 149, 150, 151, 152, 153, 154, 155, 156,\n",
       "       157, 158, 159, 160, 161, 162, 163, 164, 165, 166, 167, 168, 169,\n",
       "       170, 171, 172, 173, 174, 175, 176, 177, 178, 179, 180, 181, 182,\n",
       "       183, 184, 185, 186, 187, 188, 189, 190, 191, 192, 193, 194, 195,\n",
       "       196, 197, 198, 199, 200])"
      ]
     },
     "execution_count": 51,
     "metadata": {},
     "output_type": "execute_result"
    }
   ],
   "source": [
    "array2 = np.arange(1, 201, 1)\n",
    "array2"
   ]
  },
  {
   "cell_type": "code",
   "execution_count": 52,
   "id": "cf8b024b",
   "metadata": {},
   "outputs": [
    {
     "data": {
      "text/plain": [
       "20100"
      ]
     },
     "execution_count": 52,
     "metadata": {},
     "output_type": "execute_result"
    }
   ],
   "source": [
    "array2.sum()"
   ]
  },
  {
   "cell_type": "markdown",
   "id": "c47359d1",
   "metadata": {},
   "source": [
    "## Funciones universales proporcionadas por numpy:ufunc"
   ]
  },
  {
   "cell_type": "code",
   "execution_count": 56,
   "id": "041d7394",
   "metadata": {},
   "outputs": [
    {
     "data": {
      "text/plain": [
       "array([    1,     4,     9,    16,    25,    36,    49,    64,    81,\n",
       "         100,   121,   144,   169,   196,   225,   256,   289,   324,\n",
       "         361,   400,   441,   484,   529,   576,   625,   676,   729,\n",
       "         784,   841,   900,   961,  1024,  1089,  1156,  1225,  1296,\n",
       "        1369,  1444,  1521,  1600,  1681,  1764,  1849,  1936,  2025,\n",
       "        2116,  2209,  2304,  2401,  2500,  2601,  2704,  2809,  2916,\n",
       "        3025,  3136,  3249,  3364,  3481,  3600,  3721,  3844,  3969,\n",
       "        4096,  4225,  4356,  4489,  4624,  4761,  4900,  5041,  5184,\n",
       "        5329,  5476,  5625,  5776,  5929,  6084,  6241,  6400,  6561,\n",
       "        6724,  6889,  7056,  7225,  7396,  7569,  7744,  7921,  8100,\n",
       "        8281,  8464,  8649,  8836,  9025,  9216,  9409,  9604,  9801,\n",
       "       10000, 10201, 10404, 10609, 10816, 11025, 11236, 11449, 11664,\n",
       "       11881, 12100, 12321, 12544, 12769, 12996, 13225, 13456, 13689,\n",
       "       13924, 14161, 14400, 14641, 14884, 15129, 15376, 15625, 15876,\n",
       "       16129, 16384, 16641, 16900, 17161, 17424, 17689, 17956, 18225,\n",
       "       18496, 18769, 19044, 19321, 19600, 19881, 20164, 20449, 20736,\n",
       "       21025, 21316, 21609, 21904, 22201, 22500, 22801, 23104, 23409,\n",
       "       23716, 24025, 24336, 24649, 24964, 25281, 25600, 25921, 26244,\n",
       "       26569, 26896, 27225, 27556, 27889, 28224, 28561, 28900, 29241,\n",
       "       29584, 29929, 30276, 30625, 30976, 31329, 31684, 32041, 32400,\n",
       "       32761, 33124, 33489, 33856, 34225, 34596, 34969, 35344, 35721,\n",
       "       36100, 36481, 36864, 37249, 37636, 38025, 38416, 38809, 39204,\n",
       "       39601, 40000])"
      ]
     },
     "execution_count": 56,
     "metadata": {},
     "output_type": "execute_result"
    }
   ],
   "source": [
    "# Cuadrado de loss elementos de Array.\n",
    "np.square(array2)"
   ]
  },
  {
   "cell_type": "code",
   "execution_count": null,
   "id": "6a8e8e72",
   "metadata": {},
   "outputs": [],
   "source": [
    "# Raiz cuadrada"
   ]
  }
 ],
 "metadata": {
  "kernelspec": {
   "display_name": "Python 3 (ipykernel)",
   "language": "python",
   "name": "python3"
  },
  "language_info": {
   "codemirror_mode": {
    "name": "ipython",
    "version": 3
   },
   "file_extension": ".py",
   "mimetype": "text/x-python",
   "name": "python",
   "nbconvert_exporter": "python",
   "pygments_lexer": "ipython3",
   "version": "3.10.9"
  }
 },
 "nbformat": 4,
 "nbformat_minor": 5
}
