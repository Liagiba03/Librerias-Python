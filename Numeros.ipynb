{
 "cells": [
  {
   "cell_type": "markdown",
   "id": "a862cf94",
   "metadata": {},
   "source": [
    "# Trabajando con Números.\n",
    "## Utilizando el interpreté como una calculadora."
   ]
  },
  {
   "cell_type": "code",
   "execution_count": 1,
   "id": "a3d1c779",
   "metadata": {},
   "outputs": [
    {
     "data": {
      "text/plain": [
       "5"
      ]
     },
     "execution_count": 1,
     "metadata": {},
     "output_type": "execute_result"
    }
   ],
   "source": [
    "3+2"
   ]
  },
  {
   "cell_type": "code",
   "execution_count": 2,
   "id": "869960ec",
   "metadata": {},
   "outputs": [
    {
     "data": {
      "text/plain": [
       "1"
      ]
     },
     "execution_count": 2,
     "metadata": {},
     "output_type": "execute_result"
    }
   ],
   "source": [
    "3-2"
   ]
  },
  {
   "cell_type": "code",
   "execution_count": 4,
   "id": "813b5ee0",
   "metadata": {},
   "outputs": [
    {
     "data": {
      "text/plain": [
       "1.5"
      ]
     },
     "execution_count": 4,
     "metadata": {},
     "output_type": "execute_result"
    }
   ],
   "source": [
    "# División\n",
    "3/2"
   ]
  },
  {
   "cell_type": "code",
   "execution_count": 8,
   "id": "4d7f7db9",
   "metadata": {},
   "outputs": [
    {
     "data": {
      "text/plain": [
       "1"
      ]
     },
     "execution_count": 8,
     "metadata": {},
     "output_type": "execute_result"
    }
   ],
   "source": [
    "#Modulo\n",
    "3%2"
   ]
  },
  {
   "cell_type": "code",
   "execution_count": 7,
   "id": "51e5907e",
   "metadata": {},
   "outputs": [
    {
     "data": {
      "text/plain": [
       "9"
      ]
     },
     "execution_count": 7,
     "metadata": {},
     "output_type": "execute_result"
    }
   ],
   "source": [
    "# Pootencia\n",
    "3**2"
   ]
  },
  {
   "cell_type": "markdown",
   "id": "7ebb97cb",
   "metadata": {},
   "source": [
    "## Es posible distinguir dos tipos de Números.\n",
    "\n",
    "#### **Enteros**: Que no tienen parte decimal y van desde menos infinito a más infinito.\n",
    "#### **Flotantes** o decimales: Números que tienen una parte decimal escrita con punto. "
   ]
  },
  {
   "cell_type": "code",
   "execution_count": 9,
   "id": "101427b5",
   "metadata": {},
   "outputs": [
    {
     "data": {
      "text/plain": [
       "15"
      ]
     },
     "execution_count": 9,
     "metadata": {},
     "output_type": "execute_result"
    }
   ],
   "source": [
    "15"
   ]
  },
  {
   "cell_type": "code",
   "execution_count": 10,
   "id": "9cd7c5bc",
   "metadata": {},
   "outputs": [
    {
     "data": {
      "text/plain": [
       "6541651541.956235"
      ]
     },
     "execution_count": 10,
     "metadata": {},
     "output_type": "execute_result"
    }
   ],
   "source": [
    "6541651541.9562354"
   ]
  },
  {
   "cell_type": "code",
   "execution_count": 11,
   "id": "eb998875",
   "metadata": {},
   "outputs": [
    {
     "data": {
      "text/plain": [
       "41"
      ]
     },
     "execution_count": 11,
     "metadata": {},
     "output_type": "execute_result"
    }
   ],
   "source": [
    "# Operaciones complejas 3-2+4*10\n",
    "3-2+4*10"
   ]
  },
  {
   "cell_type": "markdown",
   "id": "14ff453a",
   "metadata": {},
   "source": [
    "### Lasa variables.\n",
    "\n",
    "Concepto fundamental de la programación, en el cual se define un identificador y se le asigna un valor.\n",
    "\n",
    "Luego se puede utiizar como si se tratase de un valor literal, incluso operarlas entre otras variables y volver a asignarles un valor en cualquier momento."
   ]
  },
  {
   "cell_type": "code",
   "execution_count": 12,
   "id": "4fe714bf",
   "metadata": {},
   "outputs": [
    {
     "data": {
      "text/plain": [
       "3"
      ]
     },
     "execution_count": 12,
     "metadata": {},
     "output_type": "execute_result"
    }
   ],
   "source": [
    "# Asignación de un valor a una variable\n",
    "n = 3\n",
    "n"
   ]
  },
  {
   "cell_type": "code",
   "execution_count": 13,
   "id": "49fac226",
   "metadata": {},
   "outputs": [
    {
     "data": {
      "text/plain": [
       "6"
      ]
     },
     "execution_count": 13,
     "metadata": {},
     "output_type": "execute_result"
    }
   ],
   "source": [
    "n+3"
   ]
  },
  {
   "cell_type": "code",
   "execution_count": 14,
   "id": "dccf4dbd",
   "metadata": {},
   "outputs": [
    {
     "data": {
      "text/plain": [
       "6"
      ]
     },
     "execution_count": 14,
     "metadata": {},
     "output_type": "execute_result"
    }
   ],
   "source": [
    "n*2"
   ]
  },
  {
   "cell_type": "code",
   "execution_count": 15,
   "id": "9af2f37d",
   "metadata": {},
   "outputs": [
    {
     "data": {
      "text/plain": [
       "9"
      ]
     },
     "execution_count": 15,
     "metadata": {},
     "output_type": "execute_result"
    }
   ],
   "source": [
    "n*n"
   ]
  },
  {
   "cell_type": "code",
   "execution_count": 16,
   "id": "9c102b28",
   "metadata": {},
   "outputs": [],
   "source": [
    "m=10"
   ]
  },
  {
   "cell_type": "code",
   "execution_count": 17,
   "id": "d2d3f6d7",
   "metadata": {},
   "outputs": [
    {
     "data": {
      "text/plain": [
       "13"
      ]
     },
     "execution_count": 17,
     "metadata": {},
     "output_type": "execute_result"
    }
   ],
   "source": [
    "n+m"
   ]
  },
  {
   "cell_type": "code",
   "execution_count": 18,
   "id": "88fa1b53",
   "metadata": {},
   "outputs": [
    {
     "data": {
      "text/plain": [
       "40"
      ]
     },
     "execution_count": 18,
     "metadata": {},
     "output_type": "execute_result"
    }
   ],
   "source": [
    "n*m+10"
   ]
  },
  {
   "cell_type": "code",
   "execution_count": 19,
   "id": "883617b9",
   "metadata": {},
   "outputs": [
    {
     "data": {
      "text/plain": [
       "25"
      ]
     },
     "execution_count": 19,
     "metadata": {},
     "output_type": "execute_result"
    }
   ],
   "source": [
    "n = 10\n",
    "m = 15\n",
    "n+m"
   ]
  },
  {
   "cell_type": "code",
   "execution_count": 20,
   "id": "ce0c3838",
   "metadata": {},
   "outputs": [],
   "source": [
    "n=m"
   ]
  },
  {
   "cell_type": "code",
   "execution_count": 21,
   "id": "395a8de8",
   "metadata": {},
   "outputs": [
    {
     "data": {
      "text/plain": [
       "15"
      ]
     },
     "execution_count": 21,
     "metadata": {},
     "output_type": "execute_result"
    }
   ],
   "source": [
    "n"
   ]
  },
  {
   "cell_type": "code",
   "execution_count": 22,
   "id": "16afc4af",
   "metadata": {},
   "outputs": [
    {
     "data": {
      "text/plain": [
       "15"
      ]
     },
     "execution_count": 22,
     "metadata": {},
     "output_type": "execute_result"
    }
   ],
   "source": [
    "m"
   ]
  },
  {
   "cell_type": "code",
   "execution_count": 23,
   "id": "59147be5",
   "metadata": {},
   "outputs": [],
   "source": [
    "n = n + 10"
   ]
  },
  {
   "cell_type": "code",
   "execution_count": 24,
   "id": "91e2b39b",
   "metadata": {},
   "outputs": [
    {
     "data": {
      "text/plain": [
       "25"
      ]
     },
     "execution_count": 24,
     "metadata": {},
     "output_type": "execute_result"
    }
   ],
   "source": [
    "n"
   ]
  },
  {
   "cell_type": "code",
   "execution_count": 25,
   "id": "b48e1aac",
   "metadata": {},
   "outputs": [],
   "source": [
    "n = n+25"
   ]
  },
  {
   "cell_type": "code",
   "execution_count": 26,
   "id": "db60f44d",
   "metadata": {},
   "outputs": [
    {
     "data": {
      "text/plain": [
       "50"
      ]
     },
     "execution_count": 26,
     "metadata": {},
     "output_type": "execute_result"
    }
   ],
   "source": [
    "n"
   ]
  },
  {
   "cell_type": "markdown",
   "id": "43e14a5d",
   "metadata": {},
   "source": [
    "### Reutilización\n",
    "\n",
    "AL crear una estructura de cálculos con variables, se puede fácilmente adaptar sus valores para hacer diistintas comprobaciones"
   ]
  },
  {
   "cell_type": "code",
   "execution_count": 27,
   "id": "df725694",
   "metadata": {},
   "outputs": [
    {
     "data": {
      "text/plain": [
       "3.5"
      ]
     },
     "execution_count": 27,
     "metadata": {},
     "output_type": "execute_result"
    }
   ],
   "source": [
    "nota_1 = 2\n",
    "nota_2 = 5\n",
    "nota_media = (nota_1 + nota_2) / 2\n",
    "nota_media"
   ]
  },
  {
   "cell_type": "code",
   "execution_count": null,
   "id": "21242a2a",
   "metadata": {},
   "outputs": [],
   "source": []
  }
 ],
 "metadata": {
  "kernelspec": {
   "display_name": "Python 3 (ipykernel)",
   "language": "python",
   "name": "python3"
  },
  "language_info": {
   "codemirror_mode": {
    "name": "ipython",
    "version": 3
   },
   "file_extension": ".py",
   "mimetype": "text/x-python",
   "name": "python",
   "nbconvert_exporter": "python",
   "pygments_lexer": "ipython3",
   "version": "3.10.9"
  }
 },
 "nbformat": 4,
 "nbformat_minor": 5
}
